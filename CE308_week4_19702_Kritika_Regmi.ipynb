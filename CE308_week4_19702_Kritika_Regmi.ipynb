{
  "nbformat": 4,
  "nbformat_minor": 0,
  "metadata": {
    "colab": {
      "provenance": []
    },
    "kernelspec": {
      "name": "python3",
      "display_name": "Python 3"
    },
    "language_info": {
      "name": "python"
    }
  },
  "cells": [
    {
      "cell_type": "code",
      "execution_count": null,
      "metadata": {
        "id": "rtfY9RBe7ck9"
      },
      "outputs": [],
      "source": [
        "#Number 1\n",
        "\n",
        "ORG 100  // Start the program at address 100\n",
        "  LOAD H // Load 'H' into the AC\n",
        "  OUTPUT  / Output 'H'\n",
        "  LOAD E // Load 'E' into the AC\n",
        "  OUTPUT  / Output 'E'\n",
        "  LOAD L // Load 'L' into the AC\n",
        "  OUTPUT  / Output 'L'\n",
        "  OUTPUT  / Output 'L'\n",
        "  LOAD O // Load 'O' into the AC\n",
        "  OUTPUT  / Output 'O'\n",
        "  HALT    / Halt the program\n",
        "\n",
        "H, DEC 72  // ASCII code for 'H'\n",
        "E, DEC 69  // ASCII code for 'E'\n",
        "L, DEC 76  // ASCII code for 'L'\n",
        "O, DEC 79  // ASCII code for 'O'"
      ]
    },
    {
      "cell_type": "code",
      "source": [
        "#Number 2\n",
        "\n",
        "Load x\n",
        "store x\n",
        "Loop, Load x\n",
        " Subt f\n",
        " Skipcond 000\n",
        " Jump ENDLOOP\n",
        " Load x\n",
        " Subt t\n",
        " Skipcond 400\n",
        " Jump Loop1\n",
        " Jump ENDLOOP\n",
        "Loop1, Load x\n",
        "Output\n",
        "Add one\n",
        "store x\n",
        "Jump Loop\n",
        "ENDLOOP, Halt\n",
        "x, DEC 0\n",
        "t, DEC 3\n",
        "one, DEC 1\n",
        "f, DEC 5\n",
        "END 100"
      ],
      "metadata": {
        "id": "bXePghNe7ssO"
      },
      "execution_count": null,
      "outputs": []
    },
    {
      "cell_type": "code",
      "source": [
        "#Number 3\n",
        "\n",
        "ORG 100\n",
        "Load x\n",
        "Store x\n",
        "Loop, Load x\n",
        " Subt f\n",
        " Skipcond 000\n",
        " Jump ENDLOOP\n",
        " Load x\n",
        " Subt t\n",
        " Skipcond 400\n",
        " Jump Loop1\n",
        " Jump Continue\n",
        " Output\n",
        "Loop1, Load x\n",
        " Output\n",
        " Add o\n",
        " Store x\n",
        " Jump Loop\n",
        "ENDLOOP, Halt\n",
        "Continue, Load x\n",
        " Add o\n",
        " Store x\n",
        " Jump Loop\n",
        "x, Dec 0\n",
        "t, Dec 3\n",
        "o, Dec 1\n",
        "f, DEC 5\n",
        "END 100"
      ],
      "metadata": {
        "id": "TX12Dqe17z5i"
      },
      "execution_count": null,
      "outputs": []
    },
    {
      "cell_type": "code",
      "source": [
        "#Number 4\n",
        "\n",
        "ORG 100\n",
        "INPUT\n",
        "Store m\n",
        "Input\n",
        "Store n\n",
        "loop, Load m\n",
        " add multiply\n",
        " store multiply\n",
        " load n\n",
        " subt one\n",
        " store n\n",
        " skipcond 400\n",
        " jump loop\n",
        " load multiply\n",
        " output\n",
        "halt\n",
        "m,dec 0\n",
        "n,dec 0\n",
        "one, Dec 1\n",
        "multiply, dec 0\n",
        "End 100"
      ],
      "metadata": {
        "id": "3eE8r9Xc7fV3"
      },
      "execution_count": null,
      "outputs": []
    }
  ]
}